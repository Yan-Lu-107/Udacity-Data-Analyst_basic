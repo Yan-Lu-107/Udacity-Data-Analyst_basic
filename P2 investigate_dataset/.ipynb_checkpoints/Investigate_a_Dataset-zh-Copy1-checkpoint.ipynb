{
 "cells": [
  {
   "cell_type": "markdown",
   "metadata": {},
   "source": [
    "\n",
    "# 项目：Research the movie \n",
    "\n",
    "## 目录\n",
    "<ul>\n",
    "<li><a href=\"#intro\">简介</a></li>\n",
    "<li><a href=\"#wrangling\">数据整理</a></li>\n",
    "<li><a href=\"#eda\">探索性数据分析</a></li>\n",
    "<li><a href=\"#conclusions\">结论</a></li>\n",
    "\n",
    "## 简介\n",
    "TMDb电影数据"
   ]
  },
  {
   "cell_type": "code",
   "execution_count": 17,
   "metadata": {},
   "outputs": [],
   "source": [
    "# 用这个框对你计划使用的所有数据包进行设置\n",
    "#   导入语句。\n",
    "import matplotlib.pyplot as plt\n",
    "import pandas as pd\n",
    "import os\n",
    "%matplotlib inline\n"
   ]
  },
  {
   "cell_type": "code",
   "execution_count": 18,
   "metadata": {},
   "outputs": [],
   "source": [
    "#Read data\n",
    "filepath=os.path.join(os.path.abspath(''))\n",
    "df = pd.read_csv(filepath+\"/data/tmdb-movies.csv\")\n",
    "df_sorted=df.sort_values(\"popularity\",ascending=False)"
   ]
  },
  {
   "cell_type": "markdown",
   "metadata": {},
   "source": [
    "<a id='wrangling'></a>\n",
    "## 数据整理\n",
    "本数据集中包含 1 万条电影信息，信息来源为“电影数据库”（TMDb，The Movie Database），包括用户评分和票房。“演职人员 (cast)”、“电影类别 (genres)”等数据列包含由竖线字符（|）分隔的多个数值。“演职人员 (cast) ”列中有一些奇怪的字符。先不要清洁它们，你可以保持原样，不去管它们。以“_adj”结尾的最后两列表示了考虑了通货膨胀之后的相关电影的预算和收入（以2010年美元的价值来计算）。\n",
    "### 常规属性"
   ]
  },
  {
   "cell_type": "code",
   "execution_count": 19,
   "metadata": {},
   "outputs": [
    {
     "name": "stdout",
     "output_type": "stream",
     "text": [
      "null value number:\n",
      "id                         0\n",
      "imdb_id                   10\n",
      "popularity                 0\n",
      "budget                     0\n",
      "revenue                    0\n",
      "original_title             0\n",
      "cast                      76\n",
      "homepage                7930\n",
      "director                  44\n",
      "tagline                 2824\n",
      "keywords                1493\n",
      "overview                   4\n",
      "runtime                    0\n",
      "genres                    23\n",
      "production_companies    1030\n",
      "release_date               0\n",
      "vote_count                 0\n",
      "vote_average               0\n",
      "release_year               0\n",
      "budget_adj                 0\n",
      "revenue_adj                0\n",
      "dtype: int64\n",
      "\n",
      "\n",
      "duplicated value number:\n",
      "1\n"
     ]
    }
   ],
   "source": [
    "# load database and check any data missing or with error\n",
    "df_sorted.head(1)\n",
    "print(\"null value number:\\n{}\".format(df_sorted.isnull().sum()))\n",
    "print(\"\\n\")\n",
    "print(\"duplicated value number:\\n{}\".format(df_sorted.duplicated().sum()))"
   ]
  },
  {
   "cell_type": "markdown",
   "metadata": {},
   "source": [
    "Drop null and duplicate values"
   ]
  },
  {
   "cell_type": "code",
   "execution_count": 20,
   "metadata": {},
   "outputs": [
    {
     "data": {
      "text/html": [
       "<div>\n",
       "<style scoped>\n",
       "    .dataframe tbody tr th:only-of-type {\n",
       "        vertical-align: middle;\n",
       "    }\n",
       "\n",
       "    .dataframe tbody tr th {\n",
       "        vertical-align: top;\n",
       "    }\n",
       "\n",
       "    .dataframe thead th {\n",
       "        text-align: right;\n",
       "    }\n",
       "</style>\n",
       "<table border=\"1\" class=\"dataframe\">\n",
       "  <thead>\n",
       "    <tr style=\"text-align: right;\">\n",
       "      <th></th>\n",
       "      <th>id</th>\n",
       "      <th>imdb_id</th>\n",
       "      <th>popularity</th>\n",
       "      <th>budget</th>\n",
       "      <th>revenue</th>\n",
       "      <th>original_title</th>\n",
       "      <th>cast</th>\n",
       "      <th>homepage</th>\n",
       "      <th>director</th>\n",
       "      <th>tagline</th>\n",
       "      <th>...</th>\n",
       "      <th>overview</th>\n",
       "      <th>runtime</th>\n",
       "      <th>genres</th>\n",
       "      <th>production_companies</th>\n",
       "      <th>release_date</th>\n",
       "      <th>vote_count</th>\n",
       "      <th>vote_average</th>\n",
       "      <th>release_year</th>\n",
       "      <th>budget_adj</th>\n",
       "      <th>revenue_adj</th>\n",
       "    </tr>\n",
       "  </thead>\n",
       "  <tbody>\n",
       "    <tr>\n",
       "      <th>0</th>\n",
       "      <td>135397</td>\n",
       "      <td>tt0369610</td>\n",
       "      <td>32.985763</td>\n",
       "      <td>150000000</td>\n",
       "      <td>1513528810</td>\n",
       "      <td>Jurassic World</td>\n",
       "      <td>Chris Pratt|Bryce Dallas Howard|Irrfan Khan|Vi...</td>\n",
       "      <td>http://www.jurassicworld.com/</td>\n",
       "      <td>Colin Trevorrow</td>\n",
       "      <td>The park is open.</td>\n",
       "      <td>...</td>\n",
       "      <td>Twenty-two years after the events of Jurassic ...</td>\n",
       "      <td>124</td>\n",
       "      <td>Action|Adventure|Science Fiction|Thriller</td>\n",
       "      <td>Universal Studios|Amblin Entertainment|Legenda...</td>\n",
       "      <td>6/9/15</td>\n",
       "      <td>5562</td>\n",
       "      <td>6.5</td>\n",
       "      <td>2015</td>\n",
       "      <td>1.379999e+08</td>\n",
       "      <td>1.392446e+09</td>\n",
       "    </tr>\n",
       "    <tr>\n",
       "      <th>1</th>\n",
       "      <td>76341</td>\n",
       "      <td>tt1392190</td>\n",
       "      <td>28.419936</td>\n",
       "      <td>150000000</td>\n",
       "      <td>378436354</td>\n",
       "      <td>Mad Max: Fury Road</td>\n",
       "      <td>Tom Hardy|Charlize Theron|Hugh Keays-Byrne|Nic...</td>\n",
       "      <td>http://www.madmaxmovie.com/</td>\n",
       "      <td>George Miller</td>\n",
       "      <td>What a Lovely Day.</td>\n",
       "      <td>...</td>\n",
       "      <td>An apocalyptic story set in the furthest reach...</td>\n",
       "      <td>120</td>\n",
       "      <td>Action|Adventure|Science Fiction|Thriller</td>\n",
       "      <td>Village Roadshow Pictures|Kennedy Miller Produ...</td>\n",
       "      <td>5/13/15</td>\n",
       "      <td>6185</td>\n",
       "      <td>7.1</td>\n",
       "      <td>2015</td>\n",
       "      <td>1.379999e+08</td>\n",
       "      <td>3.481613e+08</td>\n",
       "    </tr>\n",
       "    <tr>\n",
       "      <th>629</th>\n",
       "      <td>157336</td>\n",
       "      <td>tt0816692</td>\n",
       "      <td>24.949134</td>\n",
       "      <td>165000000</td>\n",
       "      <td>621752480</td>\n",
       "      <td>Interstellar</td>\n",
       "      <td>Matthew McConaughey|Jessica Chastain|Anne Hath...</td>\n",
       "      <td>http://www.interstellarmovie.net/</td>\n",
       "      <td>Christopher Nolan</td>\n",
       "      <td>Mankind was born on Earth. It was never meant ...</td>\n",
       "      <td>...</td>\n",
       "      <td>Interstellar chronicles the adventures of a gr...</td>\n",
       "      <td>169</td>\n",
       "      <td>Adventure|Drama|Science Fiction</td>\n",
       "      <td>Paramount Pictures|Legendary Pictures|Warner B...</td>\n",
       "      <td>11/5/14</td>\n",
       "      <td>6498</td>\n",
       "      <td>8.0</td>\n",
       "      <td>2014</td>\n",
       "      <td>1.519800e+08</td>\n",
       "      <td>5.726906e+08</td>\n",
       "    </tr>\n",
       "    <tr>\n",
       "      <th>630</th>\n",
       "      <td>118340</td>\n",
       "      <td>tt2015381</td>\n",
       "      <td>14.311205</td>\n",
       "      <td>170000000</td>\n",
       "      <td>773312399</td>\n",
       "      <td>Guardians of the Galaxy</td>\n",
       "      <td>Chris Pratt|Zoe Saldana|Dave Bautista|Vin Dies...</td>\n",
       "      <td>http://marvel.com/guardians</td>\n",
       "      <td>James Gunn</td>\n",
       "      <td>All heroes start somewhere.</td>\n",
       "      <td>...</td>\n",
       "      <td>Light years from Earth, 26 years after being a...</td>\n",
       "      <td>121</td>\n",
       "      <td>Action|Science Fiction|Adventure</td>\n",
       "      <td>Marvel Studios|Moving Picture Company (MPC)|Bu...</td>\n",
       "      <td>7/30/14</td>\n",
       "      <td>5612</td>\n",
       "      <td>7.9</td>\n",
       "      <td>2014</td>\n",
       "      <td>1.565855e+08</td>\n",
       "      <td>7.122911e+08</td>\n",
       "    </tr>\n",
       "    <tr>\n",
       "      <th>2</th>\n",
       "      <td>262500</td>\n",
       "      <td>tt2908446</td>\n",
       "      <td>13.112507</td>\n",
       "      <td>110000000</td>\n",
       "      <td>295238201</td>\n",
       "      <td>Insurgent</td>\n",
       "      <td>Shailene Woodley|Theo James|Kate Winslet|Ansel...</td>\n",
       "      <td>http://www.thedivergentseries.movie/#insurgent</td>\n",
       "      <td>Robert Schwentke</td>\n",
       "      <td>One Choice Can Destroy You</td>\n",
       "      <td>...</td>\n",
       "      <td>Beatrice Prior must confront her inner demons ...</td>\n",
       "      <td>119</td>\n",
       "      <td>Adventure|Science Fiction|Thriller</td>\n",
       "      <td>Summit Entertainment|Mandeville Films|Red Wago...</td>\n",
       "      <td>3/18/15</td>\n",
       "      <td>2480</td>\n",
       "      <td>6.3</td>\n",
       "      <td>2015</td>\n",
       "      <td>1.012000e+08</td>\n",
       "      <td>2.716190e+08</td>\n",
       "    </tr>\n",
       "  </tbody>\n",
       "</table>\n",
       "<p>5 rows × 21 columns</p>\n",
       "</div>"
      ],
      "text/plain": [
       "         id    imdb_id  popularity     budget     revenue  \\\n",
       "0    135397  tt0369610   32.985763  150000000  1513528810   \n",
       "1     76341  tt1392190   28.419936  150000000   378436354   \n",
       "629  157336  tt0816692   24.949134  165000000   621752480   \n",
       "630  118340  tt2015381   14.311205  170000000   773312399   \n",
       "2    262500  tt2908446   13.112507  110000000   295238201   \n",
       "\n",
       "              original_title  \\\n",
       "0             Jurassic World   \n",
       "1         Mad Max: Fury Road   \n",
       "629             Interstellar   \n",
       "630  Guardians of the Galaxy   \n",
       "2                  Insurgent   \n",
       "\n",
       "                                                  cast  \\\n",
       "0    Chris Pratt|Bryce Dallas Howard|Irrfan Khan|Vi...   \n",
       "1    Tom Hardy|Charlize Theron|Hugh Keays-Byrne|Nic...   \n",
       "629  Matthew McConaughey|Jessica Chastain|Anne Hath...   \n",
       "630  Chris Pratt|Zoe Saldana|Dave Bautista|Vin Dies...   \n",
       "2    Shailene Woodley|Theo James|Kate Winslet|Ansel...   \n",
       "\n",
       "                                           homepage           director  \\\n",
       "0                     http://www.jurassicworld.com/    Colin Trevorrow   \n",
       "1                       http://www.madmaxmovie.com/      George Miller   \n",
       "629               http://www.interstellarmovie.net/  Christopher Nolan   \n",
       "630                     http://marvel.com/guardians         James Gunn   \n",
       "2    http://www.thedivergentseries.movie/#insurgent   Robert Schwentke   \n",
       "\n",
       "                                               tagline  ...  \\\n",
       "0                                    The park is open.  ...   \n",
       "1                                   What a Lovely Day.  ...   \n",
       "629  Mankind was born on Earth. It was never meant ...  ...   \n",
       "630                        All heroes start somewhere.  ...   \n",
       "2                           One Choice Can Destroy You  ...   \n",
       "\n",
       "                                              overview runtime  \\\n",
       "0    Twenty-two years after the events of Jurassic ...     124   \n",
       "1    An apocalyptic story set in the furthest reach...     120   \n",
       "629  Interstellar chronicles the adventures of a gr...     169   \n",
       "630  Light years from Earth, 26 years after being a...     121   \n",
       "2    Beatrice Prior must confront her inner demons ...     119   \n",
       "\n",
       "                                        genres  \\\n",
       "0    Action|Adventure|Science Fiction|Thriller   \n",
       "1    Action|Adventure|Science Fiction|Thriller   \n",
       "629            Adventure|Drama|Science Fiction   \n",
       "630           Action|Science Fiction|Adventure   \n",
       "2           Adventure|Science Fiction|Thriller   \n",
       "\n",
       "                                  production_companies release_date  \\\n",
       "0    Universal Studios|Amblin Entertainment|Legenda...       6/9/15   \n",
       "1    Village Roadshow Pictures|Kennedy Miller Produ...      5/13/15   \n",
       "629  Paramount Pictures|Legendary Pictures|Warner B...      11/5/14   \n",
       "630  Marvel Studios|Moving Picture Company (MPC)|Bu...      7/30/14   \n",
       "2    Summit Entertainment|Mandeville Films|Red Wago...      3/18/15   \n",
       "\n",
       "    vote_count  vote_average  release_year    budget_adj   revenue_adj  \n",
       "0         5562           6.5          2015  1.379999e+08  1.392446e+09  \n",
       "1         6185           7.1          2015  1.379999e+08  3.481613e+08  \n",
       "629       6498           8.0          2014  1.519800e+08  5.726906e+08  \n",
       "630       5612           7.9          2014  1.565855e+08  7.122911e+08  \n",
       "2         2480           6.3          2015  1.012000e+08  2.716190e+08  \n",
       "\n",
       "[5 rows x 21 columns]"
      ]
     },
     "execution_count": 20,
     "metadata": {},
     "output_type": "execute_result"
    }
   ],
   "source": [
    "# 在讨论数据结构和需要解决的任何问题之后，\n",
    "#   在本部分的第二小部分进行这些清理步骤。\n",
    "df_sorted.dropna(inplace=True)\n",
    "df_sorted.isnull().sum()\n",
    "df_sorted.drop_duplicates(inplace=True)\n",
    "df_sorted.head()                 "
   ]
  },
  {
   "cell_type": "raw",
   "metadata": {},
   "source": [
    "<a id='eda'></a>\n",
    "## 探索性数据分析\n",
    "### 研究问题1（top 5 director & top 3 genres with a higher revenue）"
   ]
  },
  {
   "cell_type": "code",
   "execution_count": 21,
   "metadata": {},
   "outputs": [
    {
     "data": {
      "image/png": "[encoded data removed]",
      "text/plain": [
       "<Figure size 720x360 with 1 Axes>"
      ]
     },
     "metadata": {
      "needs_background": "light"
     },
     "output_type": "display_data"
    },
    {
     "data": {
      "image/png": "[encoded data removed]",
      "text/plain": [
       "<Figure size 792x360 with 1 Axes>"
      ]
     },
     "metadata": {
      "needs_background": "light"
     },
     "output_type": "display_data"
    }
   ],
   "source": [
    "df_groupbyCompany=df_sorted.groupby('director').revenue.mean()\n",
    "df_sortedCompany=df_groupbyCompany.sort_values(ascending=False)\n",
    "df_sortedCompany=df_sortedCompany.head(5)\n",
    "plt.subplots(figsize=(10, 5))\n",
    "plt.bar(df_sortedCompany.index, df_sortedCompany)\n",
    "plt.title('Top 5 Director with Higher Revenue')\n",
    "plt.xlabel('Director')\n",
    "plt.ylabel('Revenue');\n",
    "\n",
    "\n",
    "# 请继续探索数据，解决你额外的研究问题。\n",
    "#   如果有其它问题要调查，\n",
    "#   请根据需要添加更多标题。\n",
    "df_groupbyGenres=df_sorted.groupby('genres').popularity.mean()\n",
    "df_groupbyGenres=df_groupbyGenres.sort_values(ascending=False)\n",
    "df_groupbyGenres=df_groupbyGenres.head(3)\n",
    "\n",
    "plt.subplots(figsize=(11, 5))\n",
    "plt.bar(df_groupbyGenres.index, df_groupbyGenres)\n",
    "plt.title('Top 3 Genres with Higher Popularity')\n",
    "plt.xlabel('Genres')\n",
    "plt.ylabel('Popularity');\n"
   ]
  },
  {
   "cell_type": "markdown",
   "metadata": {},
   "source": [
    "### 研究问题 2（the research for the relationship between the popularity and the release year）"
   ]
  },
  {
   "cell_type": "code",
   "execution_count": 22,
   "metadata": {},
   "outputs": [
    {
     "data": {
      "text/plain": [
       "Text(0, 0.5, 'revenue')"
      ]
     },
     "execution_count": 22,
     "metadata": {},
     "output_type": "execute_result"
    },
    {
     "data": {
      "image/png": "[encoded data removed]",
      "text/plain": [
       "<Figure size 432x288 with 1 Axes>"
      ]
     },
     "metadata": {
      "needs_background": "light"
     },
     "output_type": "display_data"
    }
   ],
   "source": [
    "df_sorted.plot(x='popularity', y='revenue', kind='scatter');\n",
    "plt.title(\"relationship between popularity and revenue\")\n",
    "plt.xlabel(\"popularity\")\n",
    "plt.ylabel(\"revenue\")\n",
    "#plt.xlim((0,9))\n",
    "#plt.ylim((0,1.5e9))"
   ]
  },
  {
   "cell_type": "code",
   "execution_count": 23,
   "metadata": {},
   "outputs": [
    {
     "data": {
      "text/plain": [
       "genres\n",
       "Adventure|Drama|Science Fiction              24.949134\n",
       "Adventure|Science Fiction|Thriller           13.112507\n",
       "Action|Adventure|Science Fiction|Thriller    13.076946\n",
       "Name: popularity, dtype: float64"
      ]
     },
     "execution_count": 23,
     "metadata": {},
     "output_type": "execute_result"
    }
   ],
   "source": [
    "df_sorted['revenue_popularity']=df_sorted.revenue/df_sorted.popularity\n",
    "top_08 = df_sorted.query('revenue_popularity < 2.5e8')\n",
    "df_sortedCompany.head(5)\n",
    "df_groupbyGenres.head(3)\n"
   ]
  },
  {
   "cell_type": "markdown",
   "metadata": {},
   "source": [
    "<a id='conclusions'></a>\n",
    "## 结论\n",
    "研究问题1:\n",
    "1. top 5 director with higher revenue\n",
    "The directors of the movies that win higher revenue are:Colin Trevorrow,Joss Whedon,Chris Buck|Jennifer Lee,Shane Black,James Cameron\n",
    "2. Top 3 Genres with higher revenue\n",
    "Adventure|Drama|Science Fiction            24.949134\n",
    "Adventure|Science Fiction|Thriller          13.112507\n",
    "Action|Adventure|Science Fiction|Thriller      13.076946\n",
    "\n",
    "研究问题2: The relationship between poplarity and revenue\n",
    "Through ploting the relationship between popularity and revenue, very less movies achieve the revenue higher than 1.4e9 or win the popularity more than 9. The propotions of the popularity and revenue for each movie are mostly under 2.5e9."
   ]
  },
  {
   "cell_type": "code",
   "execution_count": 24,
   "metadata": {},
   "outputs": [
    {
     "data": {
      "text/plain": [
       "1"
      ]
     },
     "execution_count": 24,
     "metadata": {},
     "output_type": "execute_result"
    }
   ],
   "source": [
    "from subprocess import call\n",
    "call(['python', '-m', 'nbconvert', 'Investigate_a_Dataset.ipynb'])"
   ]
  },
  {
   "cell_type": "code",
   "execution_count": null,
   "metadata": {},
   "outputs": [],
   "source": []
  },
  {
   "cell_type": "code",
   "execution_count": null,
   "metadata": {},
   "outputs": [],
   "source": []
  }
 ],
 "metadata": {
  "kernelspec": {
   "display_name": "Python 3",
   "language": "python",
   "name": "python3"
  },
  "language_info": {
   "codemirror_mode": {
    "name": "ipython",
    "version": 3
   },
   "file_extension": ".py",
   "mimetype": "text/x-python",
   "name": "python",
   "nbconvert_exporter": "python",
   "pygments_lexer": "ipython3",
   "version": "3.7.6"
  }
 },
 "nbformat": 4,
 "nbformat_minor": 2
}
